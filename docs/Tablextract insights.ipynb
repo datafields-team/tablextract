{
 "cells": [
  {
   "cell_type": "markdown",
   "metadata": {},
   "source": [
    "# Tablextract insights\n",
    "\n",
    "## Available features"
   ]
  },
  {
   "cell_type": "code",
   "execution_count": 25,
   "metadata": {},
   "outputs": [
    {
     "name": "stdout",
     "output_type": "stream",
     "text": [
      "style:\n",
      "\t- background-color-b\n",
      "\t- background-color-g\n",
      "\t- background-color-r\n",
      "\t- border-bottom-color-b\n",
      "\t- border-bottom-color-g\n",
      "\t- border-bottom-color-r\n",
      "\t- border-bottom-width\n",
      "\t- border-left-color-b\n",
      "\t- border-left-color-g\n",
      "\t- border-left-color-r\n",
      "\t- border-left-width\n",
      "\t- border-right-color-b\n",
      "\t- border-right-color-g\n",
      "\t- border-right-color-r\n",
      "\t- border-right-width\n",
      "\t- border-top-color-b\n",
      "\t- border-top-color-g\n",
      "\t- border-top-color-r\n",
      "\t- border-top-width\n",
      "\t- color-b\n",
      "\t- color-g\n",
      "\t- color-r\n",
      "\t- display\n",
      "\t- font-family\n",
      "\t- font-size\n",
      "\t- font-weight\n",
      "\t- outline-color-b\n",
      "\t- outline-color-g\n",
      "\t- outline-color-r\n",
      "\t- padding-bottom\n",
      "\t- padding-left\n",
      "\t- padding-right\n",
      "\t- padding-top\n",
      "\t- text-align\n",
      "\t- text-decoration\n",
      "\t- text-transform\n",
      "\t- vertical-align\n",
      "syntax:\n",
      "\t- density-alphanumeric\n",
      "\t- density-digit\n",
      "\t- density-lowercase\n",
      "\t- density-stopwords\n",
      "\t- density-symbol\n",
      "\t- density-token\n",
      "\t- density-uppercase\n",
      "\t- density-whitespace\n",
      "\t- match-allcaps\n",
      "\t- match-amount\n",
      "\t- match-capitalised\n",
      "\t- match-date\n",
      "\t- match-empty\n",
      "\t- match-money\n",
      "\t- match-range\n",
      "\t- first-char-lowercase\n",
      "\t- first-char-uppercase\n",
      "\t- first-char-alphanumeric\n",
      "\t- first-char-digit\n",
      "\t- first-char-whitespace\n",
      "\t- first-char-symbol\n",
      "\t- last-char-lowercase\n",
      "\t- last-char-uppercase\n",
      "\t- last-char-alphanumeric\n",
      "\t- last-char-digit\n",
      "\t- last-char-whitespace\n",
      "\t- last-char-symbol\n",
      "structural:\n",
      "\t- children\n",
      "\t- colspan\n",
      "\t- rowspan\n",
      "\t- tag\n",
      "\t- relative-col\n",
      "\t- relative-row\n",
      "semantic:\n",
      "\t- density-postag-J\n",
      "\t- density-postag-N\n",
      "\t- density-postag-R\n",
      "\t- density-postag-V\n",
      "\t- density-postag-other\n"
     ]
    }
   ],
   "source": [
    "from tablextract import PROPERTY_KINDS\n",
    "\n",
    "for k, v in PROPERTY_KINDS.items():\n",
    "    print('%s:\\n\\t- %s' % (k, '\\n\\t- '.join([feat for feat in v if '-variability-' not in feat])))"
   ]
  },
  {
   "cell_type": "markdown",
   "metadata": {},
   "source": [
    "## Normalisation ranges for unbounded features"
   ]
  },
  {
   "cell_type": "code",
   "execution_count": 15,
   "metadata": {},
   "outputs": [
    {
     "name": "stdout",
     "output_type": "stream",
     "text": [
      " border-bottom-width: [-40, 40]\n",
      "   border-left-width: [-40, 40]\n",
      "  border-right-width: [-40, 40]\n",
      "    border-top-width: [-40, 40]\n",
      "           font-size: [0, 60]\n",
      "      padding-bottom: [-40, 40]\n",
      "        padding-left: [-40, 40]\n",
      "       padding-right: [-40, 40]\n",
      "         padding-top: [-40, 40]\n",
      "         font-weight: [400, 700]\n"
     ]
    }
   ],
   "source": [
    "from tablextract import NUMERIC_STYLE_PROPERTIES\n",
    "\n",
    "for k, (v_min, v_range) in NUMERIC_STYLE_PROPERTIES.items():\n",
    "    print('%s: [%d, %d]' % (k.rjust(20), v_min, v_min + v_range))"
   ]
  },
  {
   "cell_type": "markdown",
   "metadata": {},
   "source": [
    "## Existing functions"
   ]
  },
  {
   "cell_type": "code",
   "execution_count": 24,
   "metadata": {},
   "outputs": [
    {
     "name": "stdout",
     "output_type": "stream",
     "text": [
      "- empty\n",
      "- data\n",
      "- metadata\n",
      "- context\n",
      "- decorator\n",
      "- total\n",
      "- indexer\n",
      "- factorised\n"
     ]
    }
   ],
   "source": [
    "from tablextract import FUNCTIONS\n",
    "\n",
    "print('- ' + '\\n- '.join(FUNCTIONS.values()))"
   ]
  },
  {
   "cell_type": "markdown",
   "metadata": {},
   "source": [
    "## Orientations"
   ]
  },
  {
   "cell_type": "code",
   "execution_count": 29,
   "metadata": {},
   "outputs": [
    {
     "name": "stdout",
     "output_type": "stream",
     "text": [
      "- row\n",
      "- col\n",
      "- tab\n"
     ]
    }
   ],
   "source": [
    "from tablextract import ORIENTATIONS\n",
    "\n",
    "print('- ' + '\\n- '.join(ORIENTATIONS))"
   ]
  }
 ],
 "metadata": {
  "kernelspec": {
   "display_name": "Python 3",
   "language": "python",
   "name": "python3"
  },
  "language_info": {
   "codemirror_mode": {
    "name": "ipython",
    "version": 3
   },
   "file_extension": ".py",
   "mimetype": "text/x-python",
   "name": "python",
   "nbconvert_exporter": "python",
   "pygments_lexer": "ipython3",
   "version": "3.6.7"
  }
 },
 "nbformat": 4,
 "nbformat_minor": 2
}
